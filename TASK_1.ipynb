{
 "cells": [
  {
   "cell_type": "code",
   "execution_count": null,
   "id": "72916346-6e18-4f73-af24-ec26d03191d3",
   "metadata": {},
   "outputs": [],
   "source": [
    "# Importing libraries"
   ]
  },
  {
   "cell_type": "code",
   "execution_count": 6,
   "id": "8589948e-9320-494a-a14d-6aeb4ffb5e5b",
   "metadata": {},
   "outputs": [],
   "source": [
    "import pandas as pd\n",
    "import numpy as np\n",
    "from sklearn.model_selection import train_test_split as tts\n",
    "from sklearn.linear_model import LinearRegression as lr\n",
    "from sklearn.metrics import mean_squared_error as mse, r2_score as r2"
   ]
  },
  {
   "cell_type": "code",
   "execution_count": 7,
   "id": "ada15a6a-2525-4520-b96f-acc63b04b63f",
   "metadata": {},
   "outputs": [],
   "source": [
    "apartments = pd.read_csv('BakuApartmentData.csv', index_col='Unnamed: 0')"
   ]
  },
  {
   "cell_type": "code",
   "execution_count": 8,
   "id": "76dffa54-202e-4c2f-8f97-f7e4670e2f47",
   "metadata": {},
   "outputs": [
    {
     "data": {
      "text/html": [
       "<div>\n",
       "<style scoped>\n",
       "    .dataframe tbody tr th:only-of-type {\n",
       "        vertical-align: middle;\n",
       "    }\n",
       "\n",
       "    .dataframe tbody tr th {\n",
       "        vertical-align: top;\n",
       "    }\n",
       "\n",
       "    .dataframe thead th {\n",
       "        text-align: right;\n",
       "    }\n",
       "</style>\n",
       "<table border=\"1\" class=\"dataframe\">\n",
       "  <thead>\n",
       "    <tr style=\"text-align: right;\">\n",
       "      <th></th>\n",
       "      <th>price</th>\n",
       "      <th>location</th>\n",
       "      <th>rooms</th>\n",
       "      <th>square</th>\n",
       "      <th>floor</th>\n",
       "      <th>new_building</th>\n",
       "      <th>has_repair</th>\n",
       "      <th>has_bill_of_sale</th>\n",
       "      <th>has_mortgage</th>\n",
       "    </tr>\n",
       "    <tr>\n",
       "      <th>No</th>\n",
       "      <th></th>\n",
       "      <th></th>\n",
       "      <th></th>\n",
       "      <th></th>\n",
       "      <th></th>\n",
       "      <th></th>\n",
       "      <th></th>\n",
       "      <th></th>\n",
       "      <th></th>\n",
       "    </tr>\n",
       "  </thead>\n",
       "  <tbody>\n",
       "    <tr>\n",
       "      <th>0</th>\n",
       "      <td>284000</td>\n",
       "      <td>Azadlıq Prospekti m.</td>\n",
       "      <td>3</td>\n",
       "      <td>140.0</td>\n",
       "      <td>5/12</td>\n",
       "      <td>1</td>\n",
       "      <td>1</td>\n",
       "      <td>1</td>\n",
       "      <td>1</td>\n",
       "    </tr>\n",
       "    <tr>\n",
       "      <th>1</th>\n",
       "      <td>355000</td>\n",
       "      <td>Şah İsmayıl Xətai m.</td>\n",
       "      <td>3</td>\n",
       "      <td>135.0</td>\n",
       "      <td>19/20</td>\n",
       "      <td>1</td>\n",
       "      <td>1</td>\n",
       "      <td>1</td>\n",
       "      <td>1</td>\n",
       "    </tr>\n",
       "    <tr>\n",
       "      <th>2</th>\n",
       "      <td>755000</td>\n",
       "      <td>Səbail r.</td>\n",
       "      <td>4</td>\n",
       "      <td>210.0</td>\n",
       "      <td>7/18</td>\n",
       "      <td>1</td>\n",
       "      <td>1</td>\n",
       "      <td>1</td>\n",
       "      <td>1</td>\n",
       "    </tr>\n",
       "    <tr>\n",
       "      <th>3</th>\n",
       "      <td>245000</td>\n",
       "      <td>Elmlər Akademiyası m.</td>\n",
       "      <td>3</td>\n",
       "      <td>86.0</td>\n",
       "      <td>8/10</td>\n",
       "      <td>1</td>\n",
       "      <td>1</td>\n",
       "      <td>1</td>\n",
       "      <td>1</td>\n",
       "    </tr>\n",
       "    <tr>\n",
       "      <th>4</th>\n",
       "      <td>350000</td>\n",
       "      <td>Elmlər Akademiyası m.</td>\n",
       "      <td>4</td>\n",
       "      <td>174.0</td>\n",
       "      <td>12/15</td>\n",
       "      <td>1</td>\n",
       "      <td>1</td>\n",
       "      <td>1</td>\n",
       "      <td>1</td>\n",
       "    </tr>\n",
       "    <tr>\n",
       "      <th>...</th>\n",
       "      <td>...</td>\n",
       "      <td>...</td>\n",
       "      <td>...</td>\n",
       "      <td>...</td>\n",
       "      <td>...</td>\n",
       "      <td>...</td>\n",
       "      <td>...</td>\n",
       "      <td>...</td>\n",
       "      <td>...</td>\n",
       "    </tr>\n",
       "    <tr>\n",
       "      <th>39297</th>\n",
       "      <td>85500</td>\n",
       "      <td>9-cu mikrorayon q.</td>\n",
       "      <td>2</td>\n",
       "      <td>45.0</td>\n",
       "      <td>9/9</td>\n",
       "      <td>0</td>\n",
       "      <td>0</td>\n",
       "      <td>1</td>\n",
       "      <td>0</td>\n",
       "    </tr>\n",
       "    <tr>\n",
       "      <th>39298</th>\n",
       "      <td>102500</td>\n",
       "      <td>Memar Əcəmi m.</td>\n",
       "      <td>2</td>\n",
       "      <td>48.0</td>\n",
       "      <td>3/5</td>\n",
       "      <td>0</td>\n",
       "      <td>0</td>\n",
       "      <td>1</td>\n",
       "      <td>0</td>\n",
       "    </tr>\n",
       "    <tr>\n",
       "      <th>39299</th>\n",
       "      <td>143500</td>\n",
       "      <td>İnşaatçılar m.</td>\n",
       "      <td>3</td>\n",
       "      <td>65.0</td>\n",
       "      <td>3/5</td>\n",
       "      <td>0</td>\n",
       "      <td>0</td>\n",
       "      <td>1</td>\n",
       "      <td>0</td>\n",
       "    </tr>\n",
       "    <tr>\n",
       "      <th>39300</th>\n",
       "      <td>172000</td>\n",
       "      <td>Elmlər Akademiyası m.</td>\n",
       "      <td>4</td>\n",
       "      <td>90.0</td>\n",
       "      <td>3/5</td>\n",
       "      <td>0</td>\n",
       "      <td>0</td>\n",
       "      <td>1</td>\n",
       "      <td>0</td>\n",
       "    </tr>\n",
       "    <tr>\n",
       "      <th>39301</th>\n",
       "      <td>87900</td>\n",
       "      <td>Memar Əcəmi m.</td>\n",
       "      <td>2</td>\n",
       "      <td>50.0</td>\n",
       "      <td>5/5</td>\n",
       "      <td>0</td>\n",
       "      <td>0</td>\n",
       "      <td>1</td>\n",
       "      <td>0</td>\n",
       "    </tr>\n",
       "  </tbody>\n",
       "</table>\n",
       "<p>39302 rows × 9 columns</p>\n",
       "</div>"
      ],
      "text/plain": [
       "        price               location  rooms  square  floor  new_building  \\\n",
       "No                                                                         \n",
       "0      284000   Azadlıq Prospekti m.      3   140.0   5/12             1   \n",
       "1      355000   Şah İsmayıl Xətai m.      3   135.0  19/20             1   \n",
       "2      755000              Səbail r.      4   210.0   7/18             1   \n",
       "3      245000  Elmlər Akademiyası m.      3    86.0   8/10             1   \n",
       "4      350000  Elmlər Akademiyası m.      4   174.0  12/15             1   \n",
       "...       ...                    ...    ...     ...    ...           ...   \n",
       "39297   85500     9-cu mikrorayon q.      2    45.0    9/9             0   \n",
       "39298  102500         Memar Əcəmi m.      2    48.0    3/5             0   \n",
       "39299  143500         İnşaatçılar m.      3    65.0    3/5             0   \n",
       "39300  172000  Elmlər Akademiyası m.      4    90.0    3/5             0   \n",
       "39301   87900         Memar Əcəmi m.      2    50.0    5/5             0   \n",
       "\n",
       "       has_repair  has_bill_of_sale  has_mortgage  \n",
       "No                                                 \n",
       "0               1                 1             1  \n",
       "1               1                 1             1  \n",
       "2               1                 1             1  \n",
       "3               1                 1             1  \n",
       "4               1                 1             1  \n",
       "...           ...               ...           ...  \n",
       "39297           0                 1             0  \n",
       "39298           0                 1             0  \n",
       "39299           0                 1             0  \n",
       "39300           0                 1             0  \n",
       "39301           0                 1             0  \n",
       "\n",
       "[39302 rows x 9 columns]"
      ]
     },
     "execution_count": 8,
     "metadata": {},
     "output_type": "execute_result"
    }
   ],
   "source": [
    "apartments.rename_axis('No')"
   ]
  },
  {
   "cell_type": "code",
   "execution_count": 11,
   "id": "4f904d1f-d756-4bbf-8a89-5ee3e8756f68",
   "metadata": {},
   "outputs": [],
   "source": [
    "apartments['floor'] = apartments['floor'].str.split('/').str[0]\n",
    "apartments['floor'].head()\n",
    "apartments['floor'] = apartments['floor'].astype('int64')"
   ]
  },
  {
   "cell_type": "code",
   "execution_count": null,
   "id": "4a3686d7-d60f-4dd9-ae3e-5477e1b4e57f",
   "metadata": {},
   "outputs": [],
   "source": [
    "# Target variable (y) = Price\n",
    "# Independent variables (x) = rooms, floor, new_building"
   ]
  },
  {
   "cell_type": "code",
   "execution_count": 14,
   "id": "da27e5b8-6823-4c43-8d70-3865ee1782ac",
   "metadata": {},
   "outputs": [],
   "source": [
    "x = apartments[['rooms','floor','new_building']]\n",
    "y = apartments['price']"
   ]
  },
  {
   "cell_type": "code",
   "execution_count": 15,
   "id": "fc1bda04-2e04-4836-b4d6-f29a95088e62",
   "metadata": {},
   "outputs": [],
   "source": [
    "# Spliting data for training and testing\n",
    "x_train, x_test, y_train, y_test = tts(x,y,test_size=0.2)"
   ]
  },
  {
   "cell_type": "code",
   "execution_count": 16,
   "id": "e9e8210b-4fa1-4fc0-8086-b8f1e432883c",
   "metadata": {},
   "outputs": [
    {
     "data": {
      "text/html": [
       "<style>#sk-container-id-1 {color: black;background-color: white;}#sk-container-id-1 pre{padding: 0;}#sk-container-id-1 div.sk-toggleable {background-color: white;}#sk-container-id-1 label.sk-toggleable__label {cursor: pointer;display: block;width: 100%;margin-bottom: 0;padding: 0.3em;box-sizing: border-box;text-align: center;}#sk-container-id-1 label.sk-toggleable__label-arrow:before {content: \"▸\";float: left;margin-right: 0.25em;color: #696969;}#sk-container-id-1 label.sk-toggleable__label-arrow:hover:before {color: black;}#sk-container-id-1 div.sk-estimator:hover label.sk-toggleable__label-arrow:before {color: black;}#sk-container-id-1 div.sk-toggleable__content {max-height: 0;max-width: 0;overflow: hidden;text-align: left;background-color: #f0f8ff;}#sk-container-id-1 div.sk-toggleable__content pre {margin: 0.2em;color: black;border-radius: 0.25em;background-color: #f0f8ff;}#sk-container-id-1 input.sk-toggleable__control:checked~div.sk-toggleable__content {max-height: 200px;max-width: 100%;overflow: auto;}#sk-container-id-1 input.sk-toggleable__control:checked~label.sk-toggleable__label-arrow:before {content: \"▾\";}#sk-container-id-1 div.sk-estimator input.sk-toggleable__control:checked~label.sk-toggleable__label {background-color: #d4ebff;}#sk-container-id-1 div.sk-label input.sk-toggleable__control:checked~label.sk-toggleable__label {background-color: #d4ebff;}#sk-container-id-1 input.sk-hidden--visually {border: 0;clip: rect(1px 1px 1px 1px);clip: rect(1px, 1px, 1px, 1px);height: 1px;margin: -1px;overflow: hidden;padding: 0;position: absolute;width: 1px;}#sk-container-id-1 div.sk-estimator {font-family: monospace;background-color: #f0f8ff;border: 1px dotted black;border-radius: 0.25em;box-sizing: border-box;margin-bottom: 0.5em;}#sk-container-id-1 div.sk-estimator:hover {background-color: #d4ebff;}#sk-container-id-1 div.sk-parallel-item::after {content: \"\";width: 100%;border-bottom: 1px solid gray;flex-grow: 1;}#sk-container-id-1 div.sk-label:hover label.sk-toggleable__label {background-color: #d4ebff;}#sk-container-id-1 div.sk-serial::before {content: \"\";position: absolute;border-left: 1px solid gray;box-sizing: border-box;top: 0;bottom: 0;left: 50%;z-index: 0;}#sk-container-id-1 div.sk-serial {display: flex;flex-direction: column;align-items: center;background-color: white;padding-right: 0.2em;padding-left: 0.2em;position: relative;}#sk-container-id-1 div.sk-item {position: relative;z-index: 1;}#sk-container-id-1 div.sk-parallel {display: flex;align-items: stretch;justify-content: center;background-color: white;position: relative;}#sk-container-id-1 div.sk-item::before, #sk-container-id-1 div.sk-parallel-item::before {content: \"\";position: absolute;border-left: 1px solid gray;box-sizing: border-box;top: 0;bottom: 0;left: 50%;z-index: -1;}#sk-container-id-1 div.sk-parallel-item {display: flex;flex-direction: column;z-index: 1;position: relative;background-color: white;}#sk-container-id-1 div.sk-parallel-item:first-child::after {align-self: flex-end;width: 50%;}#sk-container-id-1 div.sk-parallel-item:last-child::after {align-self: flex-start;width: 50%;}#sk-container-id-1 div.sk-parallel-item:only-child::after {width: 0;}#sk-container-id-1 div.sk-dashed-wrapped {border: 1px dashed gray;margin: 0 0.4em 0.5em 0.4em;box-sizing: border-box;padding-bottom: 0.4em;background-color: white;}#sk-container-id-1 div.sk-label label {font-family: monospace;font-weight: bold;display: inline-block;line-height: 1.2em;}#sk-container-id-1 div.sk-label-container {text-align: center;}#sk-container-id-1 div.sk-container {/* jupyter's `normalize.less` sets `[hidden] { display: none; }` but bootstrap.min.css set `[hidden] { display: none !important; }` so we also need the `!important` here to be able to override the default hidden behavior on the sphinx rendered scikit-learn.org. See: https://github.com/scikit-learn/scikit-learn/issues/21755 */display: inline-block !important;position: relative;}#sk-container-id-1 div.sk-text-repr-fallback {display: none;}</style><div id=\"sk-container-id-1\" class=\"sk-top-container\"><div class=\"sk-text-repr-fallback\"><pre>LinearRegression()</pre><b>In a Jupyter environment, please rerun this cell to show the HTML representation or trust the notebook. <br />On GitHub, the HTML representation is unable to render, please try loading this page with nbviewer.org.</b></div><div class=\"sk-container\" hidden><div class=\"sk-item\"><div class=\"sk-estimator sk-toggleable\"><input class=\"sk-toggleable__control sk-hidden--visually\" id=\"sk-estimator-id-1\" type=\"checkbox\" checked><label for=\"sk-estimator-id-1\" class=\"sk-toggleable__label sk-toggleable__label-arrow\">LinearRegression</label><div class=\"sk-toggleable__content\"><pre>LinearRegression()</pre></div></div></div></div></div>"
      ],
      "text/plain": [
       "LinearRegression()"
      ]
     },
     "execution_count": 16,
     "metadata": {},
     "output_type": "execute_result"
    }
   ],
   "source": [
    "# creating the model\n",
    "model = lr()\n",
    "# fitting the training data to teach the model\n",
    "model.fit(x_train, y_train)"
   ]
  },
  {
   "cell_type": "code",
   "execution_count": 19,
   "id": "607ac496-dff7-4f9b-aa76-99dcc089f5a3",
   "metadata": {},
   "outputs": [],
   "source": [
    "predictions = model.predict(x_test)"
   ]
  },
  {
   "cell_type": "code",
   "execution_count": 20,
   "id": "26a8a927-d389-40ae-bb79-8da5d945a853",
   "metadata": {},
   "outputs": [
    {
     "data": {
      "text/plain": [
       "0.42634287886485034"
      ]
     },
     "execution_count": 20,
     "metadata": {},
     "output_type": "execute_result"
    }
   ],
   "source": [
    "r2 = r2(y_test,predictions)\n",
    "r2"
   ]
  },
  {
   "cell_type": "code",
   "execution_count": 23,
   "id": "643369d1-0d8c-4a7f-8d4d-11a429c8b2b9",
   "metadata": {},
   "outputs": [
    {
     "data": {
      "text/plain": [
       "array([117817.34679537,    246.36432562,  83412.54749484])"
      ]
     },
     "execution_count": 23,
     "metadata": {},
     "output_type": "execute_result"
    }
   ],
   "source": [
    "coef = model.coef_\n",
    "coef"
   ]
  },
  {
   "cell_type": "code",
   "execution_count": 26,
   "id": "2b0ceefb-dde2-4048-bceb-d8df4ba53a64",
   "metadata": {},
   "outputs": [
    {
     "data": {
      "text/plain": [
       "-164038.62246792272"
      ]
     },
     "execution_count": 26,
     "metadata": {},
     "output_type": "execute_result"
    }
   ],
   "source": [
    "intercep = model.intercept_\n",
    "intercep"
   ]
  },
  {
   "cell_type": "code",
   "execution_count": 31,
   "id": "c5e55963-b34b-4929-ba58-5badd38b1cfa",
   "metadata": {},
   "outputs": [
    {
     "data": {
      "text/plain": [
       "74466.87985351872"
      ]
     },
     "execution_count": 31,
     "metadata": {},
     "output_type": "execute_result"
    }
   ],
   "source": [
    "# This tells you how far off, on average, your model's predictions are from the actual values. A lower MAE is better.\n",
    "from sklearn.metrics import mean_absolute_error as mae\n",
    "mae = mae(y_test,predictions)\n",
    "mae"
   ]
  },
  {
   "cell_type": "code",
   "execution_count": 32,
   "id": "6cf7fb49-74a0-4c65-84b7-e07270531003",
   "metadata": {},
   "outputs": [
    {
     "data": {
      "text/plain": [
       "15002693567.525478"
      ]
     },
     "execution_count": 32,
     "metadata": {},
     "output_type": "execute_result"
    }
   ],
   "source": [
    "# MSE is another common evaluation metric. It squares the differences between the actual and predicted values, making larger errors more significant.\n",
    "mse = mse(y_test,predictions)\n",
    "mse"
   ]
  },
  {
   "cell_type": "code",
   "execution_count": 33,
   "id": "1cbd4f9f-1114-442c-a831-bc3aaca3d20e",
   "metadata": {},
   "outputs": [],
   "source": [
    "# visualizing\n",
    "import matplotlib.pyplot as plt"
   ]
  },
  {
   "cell_type": "code",
   "execution_count": 34,
   "id": "e14ff770-cd35-4bef-8171-8eaacf49035a",
   "metadata": {},
   "outputs": [
    {
     "data": {
      "image/png": "[encoded data removed]",
      "text/plain": [
       "<Figure size 640x480 with 1 Axes>"
      ]
     },
     "metadata": {},
     "output_type": "display_data"
    }
   ],
   "source": [
    "plt.scatter(y_test,predictions)\n",
    "plt.plot([y_test.min(),y_test.max()],[y_test.min(),y_test.max()])\n",
    "plt.xlabel('Actual prices')\n",
    "plt.ylabel('Predicted prices')\n",
    "plt.show()"
   ]
  },
  {
   "cell_type": "code",
   "execution_count": 61,
   "id": "cde7580c-0c92-4e28-9013-886713b8a3f0",
   "metadata": {},
   "outputs": [
    {
     "data": {
      "image/png": "[encoded data removed]",
      "text/plain": [
       "<Figure size 640x480 with 1 Axes>"
      ]
     },
     "metadata": {},
     "output_type": "display_data"
    }
   ],
   "source": [
    "scaled_actual = y_test/100000\n",
    "scaled_predictions = predictions/100000\n",
    "plt.scatter(scaled_actual,scaled_predictions,color='green', alpha=0.5)\n",
    "plt.plot([scaled_actual.min(),scaled_actual.max()],[scaled_predictions.min(),scaled_predictions.max()], color='red', alpha=1)\n",
    "plt.xlabel('Actual prices (in hundred thounsands)')\n",
    "plt.ylabel('Predicted prices (in hundred thousands)')\n",
    "plt.show()"
   ]
  },
  {
   "cell_type": "code",
   "execution_count": null,
   "id": "6c202028-1469-4a08-9f4a-1a9bc74421dc",
   "metadata": {},
   "outputs": [],
   "source": []
  },
  {
   "cell_type": "code",
   "execution_count": null,
   "id": "586642a5-c56a-449c-919e-89be156ae8c3",
   "metadata": {},
   "outputs": [],
   "source": []
  },
  {
   "cell_type": "code",
   "execution_count": null,
   "id": "ccdefbed-72ce-437a-9af6-9a4e03b5a117",
   "metadata": {},
   "outputs": [],
   "source": []
  }
 ],
 "metadata": {
  "kernelspec": {
   "display_name": "Python 3 (ipykernel)",
   "language": "python",
   "name": "python3"
  },
  "language_info": {
   "codemirror_mode": {
    "name": "ipython",
    "version": 3
   },
   "file_extension": ".py",
   "mimetype": "text/x-python",
   "name": "python",
   "nbconvert_exporter": "python",
   "pygments_lexer": "ipython3",
   "version": "3.11.11"
  }
 },
 "nbformat": 4,
 "nbformat_minor": 5
}
